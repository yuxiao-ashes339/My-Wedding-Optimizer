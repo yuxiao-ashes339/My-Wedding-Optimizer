{
  "nbformat": 4,
  "nbformat_minor": 0,
  "metadata": {
    "colab": {
      "provenance": [],
      "authorship_tag": "ABX9TyPPR0OdXPHe8QBN7OlCr+t9",
      "include_colab_link": true
    },
    "kernelspec": {
      "name": "python3",
      "display_name": "Python 3"
    },
    "language_info": {
      "name": "python"
    }
  },
  "cells": [
    {
      "cell_type": "markdown",
      "metadata": {
        "id": "view-in-github",
        "colab_type": "text"
      },
      "source": [
        "<a href=\"https://colab.research.google.com/github/yuxiao-ashes339/My-Wedding-Optimizer/blob/main/WeddingOptimizer.ipynb\" target=\"_parent\"><img src=\"https://colab.research.google.com/assets/colab-badge.svg\" alt=\"Open In Colab\"/></a>"
      ]
    },
    {
      "cell_type": "code",
      "source": [
        "pip install pulp"
      ],
      "metadata": {
        "colab": {
          "base_uri": "https://localhost:8080/"
        },
        "id": "3N1w_7A-Oez-",
        "outputId": "386424f4-ff82-4c74-d652-c009d93a974a"
      },
      "execution_count": 33,
      "outputs": [
        {
          "output_type": "stream",
          "name": "stdout",
          "text": [
            "Collecting pulp\n",
            "  Downloading PuLP-3.0.2-py3-none-any.whl.metadata (6.7 kB)\n",
            "Downloading PuLP-3.0.2-py3-none-any.whl (17.7 MB)\n",
            "\u001b[2K   \u001b[90m━━━━━━━━━━━━━━━━━━━━━━━━━━━━━━━━━━━━━━━━\u001b[0m \u001b[32m17.7/17.7 MB\u001b[0m \u001b[31m51.2 MB/s\u001b[0m eta \u001b[36m0:00:00\u001b[0m\n",
            "\u001b[?25hInstalling collected packages: pulp\n",
            "Successfully installed pulp-3.0.2\n"
          ]
        }
      ]
    },
    {
      "cell_type": "code",
      "source": [
        "from pulp import LpMaximize, LpProblem, LpVariable\n",
        "import numpy as np"
      ],
      "metadata": {
        "id": "cCaXNe7uCEcx"
      },
      "execution_count": 116,
      "outputs": []
    },
    {
      "cell_type": "code",
      "execution_count": 117,
      "metadata": {
        "id": "wvOBfVut_-d4"
      },
      "outputs": [],
      "source": [
        "# Wedding Cost Optimizer\n",
        "# Initial data estimated from https://ininkweddings.com/average-cost-of-a-wedding-in-austin/\n",
        "item_dict = {\n",
        "    'Planner':[8000,1], #avg price and score\n",
        "    'Event Coordinator':[2500,1],\n",
        "    'Venue':[7000,1],\n",
        "    'Catering':[50,1],# per person\n",
        "    'Alcohol':[30,1],# per person\n",
        "    'Photographer':[7000,1],\n",
        "    'Videographer': [4000,1],\n",
        "    'DJ':[2500,1],\n",
        "    'Band':[8000,1],\n",
        "    'Rentel':[4000,1],\n",
        "    'Beauty':[800,1],\n",
        "    'Cake':[6,1],# per person\n",
        "    'Day-of Paper/Signage':[3000,1],\n",
        "    'Invitation':[5,1],# per person\n",
        "    'Officiant':[500,1],\n",
        "    'Florist':[7000,1],\n",
        "    'Dress':[5000,1],\n",
        "    'Attire':[2000,1]\n",
        "}\n",
        "initial_constraints_MULT = 1.1 # can be +/- 10% wgt from initial"
      ]
    },
    {
      "cell_type": "code",
      "source": [
        "def BudgetOptimizer(customize_importance_rank, budget, known_spend, guest_num):\n",
        "  for key in ['Catering','Alcohol','Cake','Invitation']:\n",
        "    item_dict[key][0] = item_dict[key][0]*guest_num\n",
        "  remaining_budget = budget - sum(known_spend.values())\n",
        "  remaing_item = list(set(customize_importance_rank) - set(known_spend.keys()))\n",
        "  filtered_item_dict = {key: item_dict[key] for key in remaing_item if key in item_dict}\n",
        "  # normalize and adjust score based on ranking\n",
        "  wgts = [v[0] for v in filtered_item_dict.values()]\n",
        "  filtered_item_dict = {\n",
        "      key: [v[0]/sum(wgts)] + [(len(customize_importance_rank)-customize_importance_rank.index(key))]\n",
        "      for key, v in filtered_item_dict.items()\n",
        "  }\n",
        "\n",
        "  adjusted_constraints_MULT = initial_constraints_MULT*min(len(filtered_item_dict)/len(item_dict),1.5)# adjust constraint based on number of items\n",
        "\n",
        "  model = LpProblem(name='dynamic_lp',sense=LpMaximize)\n",
        "  variables = {name: LpVariable(name, lowBound=0) for name in filtered_item_dict.keys()}\n",
        "  model += np.dot(list(variables.values()), [v[1] for v in filtered_item_dict.values()]), 'Objective'\n",
        "  model += (sum(list(variables.values()))==1, 'Constraint 1')\n",
        "  constraint_num = 2\n",
        "  for name in variables.keys():\n",
        "    model += (variables[name]<=min(filtered_item_dict[name][0]*adjusted_constraints_MULT,filtered_item_dict[name][0]+0.05), f'Constraint {constraint_num}')\n",
        "    constraint_num += 1\n",
        "    model += (variables[name]>=max(filtered_item_dict[name][0]*adjusted_constraints_MULT,filtered_item_dict[name][0]-0.05), f'Constraint {constraint_num}')\n",
        "    constraint_num += 1\n",
        "    model += (variables[name]*remaining_budget<=item_dict[name][0]*1.2, f'Constraint {constraint_num}')\n",
        "    constraint_num += 1\n",
        "    model += (variables[name]*remaining_budget>=item_dict[name][0]*0.8, f'Constraint {constraint_num}')\n",
        "    constraint_num += 1\n",
        "\n",
        "  model.solve()\n",
        "\n",
        "  print('Optimized spending: ')\n",
        "  for name, wgt in variables.items():\n",
        "    print(f'{name}: ${wgt.varValue*remaining_budget:.0f}')"
      ],
      "metadata": {
        "id": "2tLZQITBR-ut"
      },
      "execution_count": 118,
      "outputs": []
    },
    {
      "cell_type": "code",
      "source": [
        "# Add your customize items rank from high to low, don't list if not interested\n",
        "customize_importance_rank = ['Venue','DJ','Dress','Photographer','Videographer','Catering','Beauty','Alcohol','Cake','Florist','Attire','Invitation','Event Coordinator']\n",
        "# Add your budget\n",
        "budget = 40000\n",
        "guest_num = 100\n",
        "known_spend = {\n",
        "    'Venue': 4000,\n",
        "    'DJ': 1500,\n",
        "    'Photographer': 3000,\n",
        "    'Videographer':2000,\n",
        "    'Florist':4250,\n",
        "    'Dress': 4500\n",
        "}\n",
        "BudgetOptimizer(customize_importance_rank, budget,known_spend, guest_num)"
      ],
      "metadata": {
        "colab": {
          "base_uri": "https://localhost:8080/"
        },
        "id": "zKsQUUj2TCT1",
        "outputId": "939c8b01-4e18-40b0-c5f7-9fd2c61dd068"
      },
      "execution_count": 119,
      "outputs": [
        {
          "output_type": "stream",
          "name": "stdout",
          "text": [
            "Optimized spending: \n",
            "Cake: $720\n",
            "Invitation: $600\n",
            "Alcohol: $3600\n",
            "Catering: $6167\n",
            "Event Coordinator: $3000\n",
            "Beauty: $960\n",
            "Attire: $2400\n"
          ]
        }
      ]
    }
  ]
}