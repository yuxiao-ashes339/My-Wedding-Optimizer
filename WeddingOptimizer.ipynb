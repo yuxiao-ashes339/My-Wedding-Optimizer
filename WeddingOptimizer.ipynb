{
  "nbformat": 4,
  "nbformat_minor": 0,
  "metadata": {
    "colab": {
      "provenance": [],
      "authorship_tag": "ABX9TyP/fCv0np9mH+7SbAs53YoB",
      "include_colab_link": true
    },
    "kernelspec": {
      "name": "python3",
      "display_name": "Python 3"
    },
    "language_info": {
      "name": "python"
    }
  },
  "cells": [
    {
      "cell_type": "markdown",
      "metadata": {
        "id": "view-in-github",
        "colab_type": "text"
      },
      "source": [
        "<a href=\"https://colab.research.google.com/github/yuxiao-ashes339/My-Wedding-Optimizer/blob/main/WeddingOptimizer.ipynb\" target=\"_parent\"><img src=\"https://colab.research.google.com/assets/colab-badge.svg\" alt=\"Open In Colab\"/></a>"
      ]
    },
    {
      "cell_type": "code",
      "source": [],
      "metadata": {
        "id": "cCaXNe7uCEcx"
      },
      "execution_count": null,
      "outputs": []
    },
    {
      "cell_type": "code",
      "execution_count": 1,
      "metadata": {
        "id": "wvOBfVut_-d4"
      },
      "outputs": [],
      "source": [
        "# Wedding Cost Optimizer\n",
        "# Initial data from https://www.theknot.com/content/wedding-budget-ways-to-save-money\n"
      ]
    },
    {
      "cell_type": "code",
      "source": [],
      "metadata": {
        "id": "WZKWuuPxCCZP"
      },
      "execution_count": null,
      "outputs": []
    }
  ]
}